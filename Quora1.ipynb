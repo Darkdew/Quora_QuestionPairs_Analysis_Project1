{
  "nbformat": 4,
  "nbformat_minor": 0,
  "metadata": {
    "colab": {
      "name": "Quora1.ipynb",
      "provenance": [],
      "collapsed_sections": [],
      "mount_file_id": "12cQeu47gyjYA4MgUu_vn9PcBgpEfbHMx",
      "authorship_tag": "ABX9TyMzehgsu8P81+X9mA39zACC",
      "include_colab_link": true
    },
    "kernelspec": {
      "name": "python3",
      "display_name": "Python 3"
    }
  },
  "cells": [
    {
      "cell_type": "markdown",
      "metadata": {
        "id": "view-in-github",
        "colab_type": "text"
      },
      "source": [
        "<a href=\"https://colab.research.google.com/github/Darkdew/Quora_QuestionPairs_Analysis_Project1/blob/master/Quora1.ipynb\" target=\"_parent\"><img src=\"https://colab.research.google.com/assets/colab-badge.svg\" alt=\"Open In Colab\"/></a>"
      ]
    },
    {
      "cell_type": "code",
      "metadata": {
        "id": "t9cKUVq9By0m",
        "colab_type": "code",
        "colab": {
          "base_uri": "https://localhost:8080/",
          "height": 34
        },
        "outputId": "30dec4ee-14ed-4cb9-cada-09ac5698b84f"
      },
      "source": [
        "!pip install distance"
      ],
      "execution_count": 29,
      "outputs": [
        {
          "output_type": "stream",
          "text": [
            "Requirement already satisfied: distance in /usr/local/lib/python3.6/dist-packages (0.1.3)\n"
          ],
          "name": "stdout"
        }
      ]
    },
    {
      "cell_type": "code",
      "metadata": {
        "id": "vdAZhuRiJj0o",
        "colab_type": "code",
        "colab": {}
      },
      "source": [
        "import numpy as np\n",
        "import pandas as pd\n",
        "import matplotlib.pyplot as plt\n",
        "%matplotlib inline\n",
        "import seaborn as sns"
      ],
      "execution_count": 30,
      "outputs": []
    },
    {
      "cell_type": "code",
      "metadata": {
        "id": "t02RWxgFPZi1",
        "colab_type": "code",
        "colab": {}
      },
      "source": [
        "import distance #for computing similarities between arbitrary sequences\n",
        "\n",
        "from subprocess import check_output #to spawn new processes, connect to their \n",
        "#input/output/error pipes, and obtain their return codes\n",
        "\n",
        "from bs4 import BeautifulSoup\n",
        "\n",
        "import os #provides functions for interacting with the operating system\n",
        "import re #for regular expression operations\n",
        "import gc #garbage collector interface"
      ],
      "execution_count": 31,
      "outputs": []
    },
    {
      "cell_type": "code",
      "metadata": {
        "id": "wjkdzzzlPZej",
        "colab_type": "code",
        "colab": {
          "base_uri": "https://localhost:8080/",
          "height": 17
        },
        "outputId": "2898f429-da78-49f4-f558-20ed839b88ca"
      },
      "source": [
        "import plotly.offline as py #Use plotly offline to generate graphs as images\n",
        "py.init_notebook_mode(connected= True) #use plotly in notebook mode offline\n",
        "import plotly.graph_objs as go #An open-source, interactive graphing library for Python\n",
        "import plotly.tools as tls"
      ],
      "execution_count": 32,
      "outputs": [
        {
          "output_type": "display_data",
          "data": {
            "text/html": [
              "        <script type=\"text/javascript\">\n",
              "        window.PlotlyConfig = {MathJaxConfig: 'local'};\n",
              "        if (window.MathJax) {MathJax.Hub.Config({SVG: {font: \"STIX-Web\"}});}\n",
              "        if (typeof require !== 'undefined') {\n",
              "        require.undef(\"plotly\");\n",
              "        requirejs.config({\n",
              "            paths: {\n",
              "                'plotly': ['https://cdn.plot.ly/plotly-latest.min']\n",
              "            }\n",
              "        });\n",
              "        require(['plotly'], function(Plotly) {\n",
              "            window._Plotly = Plotly;\n",
              "        });\n",
              "        }\n",
              "        </script>\n",
              "        "
            ]
          },
          "metadata": {
            "tags": []
          }
        }
      ]
    },
    {
      "cell_type": "code",
      "metadata": {
        "id": "RSz3H5ymOY7O",
        "colab_type": "code",
        "colab": {}
      },
      "source": [
        "from nltk.corpus import stopwords\n",
        "from nltk.stem import PorterStemmer"
      ],
      "execution_count": 33,
      "outputs": []
    },
    {
      "cell_type": "markdown",
      "metadata": {
        "id": "CvE6eDOp8tRk",
        "colab_type": "text"
      },
      "source": [
        "# Reading Data and Basic statistics"
      ]
    },
    {
      "cell_type": "code",
      "metadata": {
        "id": "S9ia--qr8PDB",
        "colab_type": "code",
        "colab": {}
      },
      "source": [
        "df= pd.read_csv('/content/drive/My Drive/Colab Notebooks/Quora_project1/Copy of train.csv')\n"
      ],
      "execution_count": 34,
      "outputs": []
    },
    {
      "cell_type": "code",
      "metadata": {
        "id": "HwXmt8ml8pP0",
        "colab_type": "code",
        "colab": {
          "base_uri": "https://localhost:8080/",
          "height": 34
        },
        "outputId": "392a2a63-9f30-4837-8ded-bf40a36f4678"
      },
      "source": [
        "print(\"Number of  data points= \", df.shape[0])"
      ],
      "execution_count": 35,
      "outputs": [
        {
          "output_type": "stream",
          "text": [
            "Number of  data points=  404290\n"
          ],
          "name": "stdout"
        }
      ]
    },
    {
      "cell_type": "code",
      "metadata": {
        "id": "tUjqdT-09EiP",
        "colab_type": "code",
        "colab": {
          "base_uri": "https://localhost:8080/",
          "height": 203
        },
        "outputId": "928ade4e-fea9-4c56-8605-763a1f18dd38"
      },
      "source": [
        "df.head()"
      ],
      "execution_count": 36,
      "outputs": [
        {
          "output_type": "execute_result",
          "data": {
            "text/html": [
              "<div>\n",
              "<style scoped>\n",
              "    .dataframe tbody tr th:only-of-type {\n",
              "        vertical-align: middle;\n",
              "    }\n",
              "\n",
              "    .dataframe tbody tr th {\n",
              "        vertical-align: top;\n",
              "    }\n",
              "\n",
              "    .dataframe thead th {\n",
              "        text-align: right;\n",
              "    }\n",
              "</style>\n",
              "<table border=\"1\" class=\"dataframe\">\n",
              "  <thead>\n",
              "    <tr style=\"text-align: right;\">\n",
              "      <th></th>\n",
              "      <th>id</th>\n",
              "      <th>qid1</th>\n",
              "      <th>qid2</th>\n",
              "      <th>question1</th>\n",
              "      <th>question2</th>\n",
              "      <th>is_duplicate</th>\n",
              "    </tr>\n",
              "  </thead>\n",
              "  <tbody>\n",
              "    <tr>\n",
              "      <th>0</th>\n",
              "      <td>0</td>\n",
              "      <td>1</td>\n",
              "      <td>2</td>\n",
              "      <td>What is the step by step guide to invest in sh...</td>\n",
              "      <td>What is the step by step guide to invest in sh...</td>\n",
              "      <td>0</td>\n",
              "    </tr>\n",
              "    <tr>\n",
              "      <th>1</th>\n",
              "      <td>1</td>\n",
              "      <td>3</td>\n",
              "      <td>4</td>\n",
              "      <td>What is the story of Kohinoor (Koh-i-Noor) Dia...</td>\n",
              "      <td>What would happen if the Indian government sto...</td>\n",
              "      <td>0</td>\n",
              "    </tr>\n",
              "    <tr>\n",
              "      <th>2</th>\n",
              "      <td>2</td>\n",
              "      <td>5</td>\n",
              "      <td>6</td>\n",
              "      <td>How can I increase the speed of my internet co...</td>\n",
              "      <td>How can Internet speed be increased by hacking...</td>\n",
              "      <td>0</td>\n",
              "    </tr>\n",
              "    <tr>\n",
              "      <th>3</th>\n",
              "      <td>3</td>\n",
              "      <td>7</td>\n",
              "      <td>8</td>\n",
              "      <td>Why am I mentally very lonely? How can I solve...</td>\n",
              "      <td>Find the remainder when [math]23^{24}[/math] i...</td>\n",
              "      <td>0</td>\n",
              "    </tr>\n",
              "    <tr>\n",
              "      <th>4</th>\n",
              "      <td>4</td>\n",
              "      <td>9</td>\n",
              "      <td>10</td>\n",
              "      <td>Which one dissolve in water quikly sugar, salt...</td>\n",
              "      <td>Which fish would survive in salt water?</td>\n",
              "      <td>0</td>\n",
              "    </tr>\n",
              "  </tbody>\n",
              "</table>\n",
              "</div>"
            ],
            "text/plain": [
              "   id  qid1  ...                                          question2 is_duplicate\n",
              "0   0     1  ...  What is the step by step guide to invest in sh...            0\n",
              "1   1     3  ...  What would happen if the Indian government sto...            0\n",
              "2   2     5  ...  How can Internet speed be increased by hacking...            0\n",
              "3   3     7  ...  Find the remainder when [math]23^{24}[/math] i...            0\n",
              "4   4     9  ...            Which fish would survive in salt water?            0\n",
              "\n",
              "[5 rows x 6 columns]"
            ]
          },
          "metadata": {
            "tags": []
          },
          "execution_count": 36
        }
      ]
    },
    {
      "cell_type": "code",
      "metadata": {
        "id": "uxfJSTtt9iiB",
        "colab_type": "code",
        "colab": {
          "base_uri": "https://localhost:8080/",
          "height": 246
        },
        "outputId": "d3212e78-e97e-48f6-9b5a-55dd2538b51c"
      },
      "source": [
        "# Extracting more info about the data\n",
        "\n",
        "df.info()"
      ],
      "execution_count": 37,
      "outputs": [
        {
          "output_type": "stream",
          "text": [
            "<class 'pandas.core.frame.DataFrame'>\n",
            "RangeIndex: 404290 entries, 0 to 404289\n",
            "Data columns (total 6 columns):\n",
            " #   Column        Non-Null Count   Dtype \n",
            "---  ------        --------------   ----- \n",
            " 0   id            404290 non-null  int64 \n",
            " 1   qid1          404290 non-null  int64 \n",
            " 2   qid2          404290 non-null  int64 \n",
            " 3   question1     404289 non-null  object\n",
            " 4   question2     404288 non-null  object\n",
            " 5   is_duplicate  404290 non-null  int64 \n",
            "dtypes: int64(4), object(2)\n",
            "memory usage: 18.5+ MB\n"
          ],
          "name": "stdout"
        }
      ]
    },
    {
      "cell_type": "code",
      "metadata": {
        "id": "o6X02GMh93hA",
        "colab_type": "code",
        "colab": {}
      },
      "source": [
        "#we can see that two rows from 'question2' and 1 row from 'question1' are missing values"
      ],
      "execution_count": 38,
      "outputs": []
    },
    {
      "cell_type": "code",
      "metadata": {
        "id": "zglvS7GH_0XN",
        "colab_type": "code",
        "colab": {
          "base_uri": "https://localhost:8080/",
          "height": 294
        },
        "outputId": "4a56ffe2-719e-480f-a871-128f182cb9b7"
      },
      "source": [
        "#now lets visualize the distribution of datapoints grouped on the output label 'is_duplicate' classes by id\n",
        "df.groupby('is_duplicate')['id'].count().plot.bar()\n"
      ],
      "execution_count": 39,
      "outputs": [
        {
          "output_type": "execute_result",
          "data": {
            "text/plain": [
              "<matplotlib.axes._subplots.AxesSubplot at 0x7fb7064eb0f0>"
            ]
          },
          "metadata": {
            "tags": []
          },
          "execution_count": 39
        },
        {
          "output_type": "display_data",
          "data": {
            "image/png": "[encoded data removed]",
            "text/plain": [
              "<Figure size 432x288 with 1 Axes>"
            ]
          },
          "metadata": {
            "tags": [],
            "needs_background": "light"
          }
        }
      ]
    },
    {
      "cell_type": "code",
      "metadata": {
        "id": "YPjzY8twCcle",
        "colab_type": "code",
        "colab": {
          "base_uri": "https://localhost:8080/",
          "height": 279
        },
        "outputId": "83b51d96-ad48-42a7-984d-495438c773f8"
      },
      "source": [
        "# the above step can be easily performed by\n",
        "df['is_duplicate'].value_counts().plot.bar()"
      ],
      "execution_count": 40,
      "outputs": [
        {
          "output_type": "execute_result",
          "data": {
            "text/plain": [
              "<matplotlib.axes._subplots.AxesSubplot at 0x7fb706441908>"
            ]
          },
          "metadata": {
            "tags": []
          },
          "execution_count": 40
        },
        {
          "output_type": "display_data",
          "data": {
            "image/png": "[encoded data removed]",
            "text/plain": [
              "<Figure size 432x288 with 1 Axes>"
            ]
          },
          "metadata": {
            "tags": [],
            "needs_background": "light"
          }
        }
      ]
    },
    {
      "cell_type": "markdown",
      "metadata": {
        "id": "5gekZ55IEDA1",
        "colab_type": "text"
      },
      "source": [
        "# Lets Explore our data"
      ]
    },
    {
      "cell_type": "code",
      "metadata": {
        "id": "5dpn65rcEBam",
        "colab_type": "code",
        "colab": {
          "base_uri": "https://localhost:8080/",
          "height": 34
        },
        "outputId": "2abdb55d-b67b-4f71-e89c-c42489ad5e57"
      },
      "source": [
        "print(\"Total number of Question pairs for training= {} \".format(len(df)))"
      ],
      "execution_count": 41,
      "outputs": [
        {
          "output_type": "stream",
          "text": [
            "Total number of Question pairs for training= 404290 \n"
          ],
          "name": "stdout"
        }
      ]
    },
    {
      "cell_type": "code",
      "metadata": {
        "id": "SlLqjEF0FJ7Y",
        "colab_type": "code",
        "colab": {
          "base_uri": "https://localhost:8080/",
          "height": 52
        },
        "outputId": "79db5417-ccf0-4b80-b791-f6df1b7bea42"
      },
      "source": [
        "# % of Question pairs that are similar, is_duplicate=1\n",
        "\n",
        "is_duplicate_1_percentage= df['is_duplicate'].mean()*100\n",
        "print(\"~> Percentage of Similar Question pairs(is_duplicate==1)= {}\".format(round(is_duplicate_1_percentage,2)))\n",
        "\n",
        "# % of Question pairs that are dissimilar, is_duplicate=0\n",
        "\n",
        "is_duplicate_0_percentage= round(100- is_duplicate_1_percentage, 2)\n",
        "print(\"~> Percentage of DisSimilar Question pairs(is_duplicate==0)= {}\".format(is_duplicate_0_percentage))"
      ],
      "execution_count": 42,
      "outputs": [
        {
          "output_type": "stream",
          "text": [
            "~> Percentage of Similar Question pairs(is_duplicate==1)= 36.92\n",
            "~> Percentage of DisSimilar Question pairs(is_duplicate==0)= 63.08\n"
          ],
          "name": "stdout"
        }
      ]
    },
    {
      "cell_type": "code",
      "metadata": {
        "id": "Y68EfJAFH_fo",
        "colab_type": "code",
        "colab": {}
      },
      "source": [
        ""
      ],
      "execution_count": 42,
      "outputs": []
    },
    {
      "cell_type": "code",
      "metadata": {
        "id": "udIW3ZkwIDTS",
        "colab_type": "code",
        "colab": {
          "base_uri": "https://localhost:8080/",
          "height": 70
        },
        "outputId": "97f8a52a-4d90-4427-9004-7be263db68d2"
      },
      "source": [
        "qid1_list= df['qid1'].to_list() \n",
        "qid2_list= df['qid2'].to_list()\n",
        "total_qid_series= pd.Series(qid1_list + qid2_list)\n",
        "\n",
        "#Number of Unique Questions\n",
        "\n",
        "unique_question= len(np.unique(total_qid_series))\n",
        "print(\"Number of unique questions: {}\".format(unique_question))\n",
        "\n",
        "#Number of Repeated Questions\n",
        "\n",
        "repeated_questions_count= np.sum(total_qid_series.value_counts()>1)\n",
        "print(\"Count of unique questions that are repeated: {}, ({}%)\".\\\n",
        "      format(repeated_questions_count, \\\n",
        "             (repeated_questions_count/unique_question)*100))\n",
        "\n",
        "print(\"Max count of times a question is repeated=\",max(total_qid_series.value_counts()))\n"
      ],
      "execution_count": 43,
      "outputs": [
        {
          "output_type": "stream",
          "text": [
            "Number of unique questions: 537933\n",
            "Count of unique questions that are repeated: 111780, (20.77953945937505%)\n",
            "Max count of times a question is repeated= 157\n"
          ],
          "name": "stdout"
        }
      ]
    },
    {
      "cell_type": "code",
      "metadata": {
        "id": "Yf6tGNi8CTvN",
        "colab_type": "code",
        "colab": {}
      },
      "source": [
        "# lets create an array for total repetition counts for each question\n",
        "q_val_counts= total_qid_series.value_counts()"
      ],
      "execution_count": 44,
      "outputs": []
    },
    {
      "cell_type": "code",
      "metadata": {
        "id": "EP3Mc85TDABy",
        "colab_type": "code",
        "colab": {
          "base_uri": "https://localhost:8080/",
          "height": 228
        },
        "outputId": "d5ff7228-a820-41dc-bb4e-61f43cd700e6"
      },
      "source": [
        "q_val_counts"
      ],
      "execution_count": 45,
      "outputs": [
        {
          "output_type": "execute_result",
          "data": {
            "text/plain": [
              "2559      157\n",
              "30782     120\n",
              "4044      111\n",
              "2561       88\n",
              "14376      79\n",
              "         ... \n",
              "75109       1\n",
              "81254       1\n",
              "85352       1\n",
              "83305       1\n",
              "168274      1\n",
              "Length: 537933, dtype: int64"
            ]
          },
          "metadata": {
            "tags": []
          },
          "execution_count": 45
        }
      ]
    },
    {
      "cell_type": "code",
      "metadata": {
        "id": "zB44R-tmCjN8",
        "colab_type": "code",
        "colab": {}
      },
      "source": [
        "q_val_counts_values= total_qid_series.value_counts().values"
      ],
      "execution_count": 46,
      "outputs": []
    },
    {
      "cell_type": "code",
      "metadata": {
        "id": "hzV_NW8AC34i",
        "colab_type": "code",
        "colab": {
          "base_uri": "https://localhost:8080/",
          "height": 34
        },
        "outputId": "9e63b1c5-bd77-4d87-f6bc-205af8c59c93"
      },
      "source": [
        "q_val_counts_values"
      ],
      "execution_count": 47,
      "outputs": [
        {
          "output_type": "execute_result",
          "data": {
            "text/plain": [
              "array([157, 120, 111, ...,   1,   1,   1])"
            ]
          },
          "metadata": {
            "tags": []
          },
          "execution_count": 47
        }
      ]
    },
    {
      "cell_type": "code",
      "metadata": {
        "id": "C8i7oCPGDi7C",
        "colab_type": "code",
        "colab": {
          "base_uri": "https://localhost:8080/",
          "height": 298
        },
        "outputId": "468e2b9e-1453-406e-f32e-b2fcf68bd56f"
      },
      "source": [
        "plt.title(\"Plotting unique Qs count Vs Repeated Qs Count\")\n",
        "sns.barplot([\"unique Qs\", \"Repeated Qs\"], [unique_question, repeated_questions_count])"
      ],
      "execution_count": 48,
      "outputs": [
        {
          "output_type": "execute_result",
          "data": {
            "text/plain": [
              "<matplotlib.axes._subplots.AxesSubplot at 0x7fb7063b6d68>"
            ]
          },
          "metadata": {
            "tags": []
          },
          "execution_count": 48
        },
        {
          "output_type": "display_data",
          "data": {
            "image/png": "[encoded data removed]",
            "text/plain": [
              "<Figure size 432x288 with 1 Axes>"
            ]
          },
          "metadata": {
            "tags": [],
            "needs_background": "light"
          }
        }
      ]
    },
    {
      "cell_type": "markdown",
      "metadata": {
        "id": "T10XH-RYEg6y",
        "colab_type": "text"
      },
      "source": [
        "# Checking for Duplicates"
      ]
    },
    {
      "cell_type": "code",
      "metadata": {
        "id": "jDo54CVBEe4S",
        "colab_type": "code",
        "colab": {
          "base_uri": "https://localhost:8080/",
          "height": 34
        },
        "outputId": "5bf3e1bf-982c-4c13-dcf5-b8cb15861e3f"
      },
      "source": [
        "#Checking if there are any repeated pair of Qs being compared\n",
        "\n",
        "pair_duplicates= df[['qid1', 'qid2', 'is_duplicate']].groupby(['qid1', 'qid2']).count().reset_index()\n",
        "\n",
        "#Reset the index of the DataFrame, and use the default one instead. \n",
        "#If the DataFrame has a MultiIndex, this method can remove one or more levels.\n",
        "\n",
        "duplicate_pair_count= pair_duplicates.shape[0]- df.shape[0]\n",
        "\n",
        "print(\"Number of duplicate Questions= \", duplicate_pair_count)"
      ],
      "execution_count": 49,
      "outputs": [
        {
          "output_type": "stream",
          "text": [
            "Number of duplicate Questions=  0\n"
          ],
          "name": "stdout"
        }
      ]
    },
    {
      "cell_type": "code",
      "metadata": {
        "id": "teN6Zq9IEb4D",
        "colab_type": "code",
        "colab": {
          "base_uri": "https://localhost:8080/",
          "height": 503
        },
        "outputId": "9840af4c-4995-4b13-a196-875a9c9b9a4d"
      },
      "source": [
        "#Number of occurence of each question\n",
        "plt.figure(figsize=(20,10))\n",
        "plt.hist(total_qid_series.value_counts(), bins=160, orientation='horizontal')\n",
        "plt.xscale(\"log\")\n",
        "plt.title(\"Histogram of repetition frequency of questions\")\n",
        "plt.xlabel(\"count of questions\")\n",
        "plt.ylabel(\"count of repetitions\")\n",
        "print(\"Max count of times a question is repeated=\",max(total_qid_series.value_counts()))"
      ],
      "execution_count": 50,
      "outputs": [
        {
          "output_type": "stream",
          "text": [
            "Max count of times a question is repeated= 157\n"
          ],
          "name": "stdout"
        },
        {
          "output_type": "display_data",
          "data": {
            "image/png": "[encoded data removed]",
            "text/plain": [
              "<Figure size 1440x720 with 1 Axes>"
            ]
          },
          "metadata": {
            "tags": [],
            "needs_background": "light"
          }
        }
      ]
    },
    {
      "cell_type": "markdown",
      "metadata": {
        "id": "w7O0Arr0MEA5",
        "colab_type": "text"
      },
      "source": [
        "# Null Values Handling"
      ]
    },
    {
      "cell_type": "code",
      "metadata": {
        "id": "-TBdvdGCLmdL",
        "colab_type": "code",
        "colab": {
          "base_uri": "https://localhost:8080/",
          "height": 140
        },
        "outputId": "85755306-4c4e-4ff3-c6e3-b87cb52fc47c"
      },
      "source": [
        "#Checking whether there are any rows with null values\n",
        "\n",
        "df.isnull().any(0) # any(0) finds out null values column wise\n"
      ],
      "execution_count": 51,
      "outputs": [
        {
          "output_type": "execute_result",
          "data": {
            "text/plain": [
              "id              False\n",
              "qid1            False\n",
              "qid2            False\n",
              "question1        True\n",
              "question2        True\n",
              "is_duplicate    False\n",
              "dtype: bool"
            ]
          },
          "metadata": {
            "tags": []
          },
          "execution_count": 51
        }
      ]
    },
    {
      "cell_type": "code",
      "metadata": {
        "id": "OyB0wrmkP_3I",
        "colab_type": "code",
        "colab": {
          "base_uri": "https://localhost:8080/",
          "height": 228
        },
        "outputId": "81a0e447-365f-4eff-c1d0-ee7e2a3b7866"
      },
      "source": [
        "df.isnull().any(1) # any(1) finds out null values row wise"
      ],
      "execution_count": 52,
      "outputs": [
        {
          "output_type": "execute_result",
          "data": {
            "text/plain": [
              "0         False\n",
              "1         False\n",
              "2         False\n",
              "3         False\n",
              "4         False\n",
              "          ...  \n",
              "404285    False\n",
              "404286    False\n",
              "404287    False\n",
              "404288    False\n",
              "404289    False\n",
              "Length: 404290, dtype: bool"
            ]
          },
          "metadata": {
            "tags": []
          },
          "execution_count": 52
        }
      ]
    },
    {
      "cell_type": "code",
      "metadata": {
        "id": "g67ezoRmQtYG",
        "colab_type": "code",
        "colab": {
          "base_uri": "https://localhost:8080/",
          "height": 175
        },
        "outputId": "b74360d0-129e-4de4-d804-3a0a01bfdf14"
      },
      "source": [
        "nan_rows= df[df.isnull().any(1)]\n",
        "nan_rows"
      ],
      "execution_count": 53,
      "outputs": [
        {
          "output_type": "execute_result",
          "data": {
            "text/html": [
              "<div>\n",
              "<style scoped>\n",
              "    .dataframe tbody tr th:only-of-type {\n",
              "        vertical-align: middle;\n",
              "    }\n",
              "\n",
              "    .dataframe tbody tr th {\n",
              "        vertical-align: top;\n",
              "    }\n",
              "\n",
              "    .dataframe thead th {\n",
              "        text-align: right;\n",
              "    }\n",
              "</style>\n",
              "<table border=\"1\" class=\"dataframe\">\n",
              "  <thead>\n",
              "    <tr style=\"text-align: right;\">\n",
              "      <th></th>\n",
              "      <th>id</th>\n",
              "      <th>qid1</th>\n",
              "      <th>qid2</th>\n",
              "      <th>question1</th>\n",
              "      <th>question2</th>\n",
              "      <th>is_duplicate</th>\n",
              "    </tr>\n",
              "  </thead>\n",
              "  <tbody>\n",
              "    <tr>\n",
              "      <th>105780</th>\n",
              "      <td>105780</td>\n",
              "      <td>174363</td>\n",
              "      <td>174364</td>\n",
              "      <td>How can I develop android app?</td>\n",
              "      <td>NaN</td>\n",
              "      <td>0</td>\n",
              "    </tr>\n",
              "    <tr>\n",
              "      <th>201841</th>\n",
              "      <td>201841</td>\n",
              "      <td>303951</td>\n",
              "      <td>174364</td>\n",
              "      <td>How can I create an Android app?</td>\n",
              "      <td>NaN</td>\n",
              "      <td>0</td>\n",
              "    </tr>\n",
              "    <tr>\n",
              "      <th>363362</th>\n",
              "      <td>363362</td>\n",
              "      <td>493340</td>\n",
              "      <td>493341</td>\n",
              "      <td>NaN</td>\n",
              "      <td>My Chinese name is Haichao Yu. What English na...</td>\n",
              "      <td>0</td>\n",
              "    </tr>\n",
              "  </tbody>\n",
              "</table>\n",
              "</div>"
            ],
            "text/plain": [
              "            id  ...  is_duplicate\n",
              "105780  105780  ...             0\n",
              "201841  201841  ...             0\n",
              "363362  363362  ...             0\n",
              "\n",
              "[3 rows x 6 columns]"
            ]
          },
          "metadata": {
            "tags": []
          },
          "execution_count": 53
        }
      ]
    },
    {
      "cell_type": "markdown",
      "metadata": {
        "id": "m-ZUtvUlRD_B",
        "colab_type": "text"
      },
      "source": [
        "- There are 3 rows with Null values in our dataframe"
      ]
    },
    {
      "cell_type": "code",
      "metadata": {
        "id": "BXSU-C8pRNfo",
        "colab_type": "code",
        "colab": {
          "base_uri": "https://localhost:8080/",
          "height": 70
        },
        "outputId": "cbea0004-c282-49f4-a705-f1c89d68f98d"
      },
      "source": [
        "#Lets fill the null values with ' '\n",
        "df= df.fillna('')\n",
        "\n",
        "#lets check if the statement worked\n",
        "nan_rows= df[df.isnull().any(1)]\n",
        "print(nan_rows)"
      ],
      "execution_count": 54,
      "outputs": [
        {
          "output_type": "stream",
          "text": [
            "Empty DataFrame\n",
            "Columns: [id, qid1, qid2, question1, question2, is_duplicate]\n",
            "Index: []\n"
          ],
          "name": "stdout"
        }
      ]
    },
    {
      "cell_type": "markdown",
      "metadata": {
        "id": "rQsGI4JqSxC7",
        "colab_type": "text"
      },
      "source": [
        "# Basic Feature Extraction (Before Cleaning)\n",
        "\n",
        "- freq_qid1 = Frequency of qid1's\n",
        "- freq_qid2 = Frequency of qid2's\n",
        "- q1len = Length of q1\n",
        "- q2len = Length of q2\n",
        "- q1_n_words = Number of words in Question 1\n",
        "- q2_n_words = Number of words in Question 2\n",
        "- word_Common = (Number of common unique words in Question 1 and Question 2)\n",
        "- word_Total =(Total num of words in Question 1 + Total num of words in Question 2)\n",
        "- word_share = (word_common)/(word_Total)\n",
        "- freq_q1+freq_q2 = sum total of frequency of qid1 and qid2\n",
        "- freq_q1-freq_q2 = absolute difference of frequency of qid1 and qid2"
      ]
    },
    {
      "cell_type": "code",
      "metadata": {
        "id": "YDkxL4n8TaR-",
        "colab_type": "code",
        "colab": {
          "base_uri": "https://localhost:8080/",
          "height": 650
        },
        "outputId": "edf0aace-cc59-4805-acd9-826c188c630f"
      },
      "source": [
        "if os.path.isfile('df_fe_beforecleaning_train.csv'):\n",
        "  df= pd.read_csv('df_fe_beforecleaning_train.csv', encoding= 'latin-1')\n",
        "\n",
        "else:\n",
        "  df['freq_qid1']= df.groupby('qid1')['qid1'].transform('count') #refer pdf for groupbywith transform('count')\n",
        "  df['freq_qid2']= df.groupby('qid2')['qid2'].transform('count')\n",
        "# strip() strips the left and right end's white spaces for each word.\n",
        "  df['q1len']= df['question1'].str.len()\n",
        "  df['q2len']= df['question2'].str.len()\n",
        "\n",
        "  df['q1_n_words']= df['question1'].apply(lambda row: len(row.split(' ')))\n",
        "  df['q2_n_words']= df['question2'].apply(lambda row: len(row.split(' ')))\n",
        "\n",
        "  def normalized_word_Common(row):\n",
        "    w1= set(map(lambda word: word.lower().strip(), row['question1'].split(' ')))\n",
        "    w2= set(map(lambda word: word.lower().strip(), row['question2'].split(' ')))\n",
        "    return 1.0*len(w1 & w2)\n",
        "\n",
        "  df['word_Common']= df.apply(normalized_word_Common, axis=1)\n",
        "\n",
        "  def normalized_word_Total(row):\n",
        "    w1= set(map(lambda word: word.lower().strip(), row['question1'].split(' ')))\n",
        "    w2= set(map(lambda word: word.lower().strip(), row['question2'].split(' ')))\n",
        "    return 1.0*len(w1) + len(w2)\n",
        "\n",
        "  df['word_Total']= df.apply(normalized_word_Total, axis=1)\n",
        "\n",
        "  def normalized_word_share(row):\n",
        "    w1= set(map(lambda word: word.lower().strip(), row['question1'].split(' ')))\n",
        "    w2= set(map(lambda word: word.lower().strip(), row['question2'].split(' ')))\n",
        "    return 1.0*(len(w1 & w2)/ (len(w1)+len(w2)))\n",
        "\n",
        "  df['word_share']= df.apply(normalized_word_share, axis=1)\n",
        "\n",
        "  df['freq_q1+q2']= df['freq_qid1']+ df['freq_qid2']\n",
        "  df['freq_q1-q2']= abs(df['freq_qid1']- df['freq_qid2'])\n",
        "\n",
        "  df.to_csv(\"df_fe_beforecleaning_train.csv\", index= False)\n",
        "\n",
        "df.head()\n"
      ],
      "execution_count": 55,
      "outputs": [
        {
          "output_type": "execute_result",
          "data": {
            "text/html": [
              "<div>\n",
              "<style scoped>\n",
              "    .dataframe tbody tr th:only-of-type {\n",
              "        vertical-align: middle;\n",
              "    }\n",
              "\n",
              "    .dataframe tbody tr th {\n",
              "        vertical-align: top;\n",
              "    }\n",
              "\n",
              "    .dataframe thead th {\n",
              "        text-align: right;\n",
              "    }\n",
              "</style>\n",
              "<table border=\"1\" class=\"dataframe\">\n",
              "  <thead>\n",
              "    <tr style=\"text-align: right;\">\n",
              "      <th></th>\n",
              "      <th>id</th>\n",
              "      <th>qid1</th>\n",
              "      <th>qid2</th>\n",
              "      <th>question1</th>\n",
              "      <th>question2</th>\n",
              "      <th>is_duplicate</th>\n",
              "      <th>freq_qid1</th>\n",
              "      <th>freq_qid2</th>\n",
              "      <th>q1len</th>\n",
              "      <th>q2len</th>\n",
              "      <th>q1_n_words</th>\n",
              "      <th>q2_n_words</th>\n",
              "      <th>word_Common</th>\n",
              "      <th>word_Total</th>\n",
              "      <th>word_share</th>\n",
              "      <th>freq_q1+q2</th>\n",
              "      <th>freq_q1-q2</th>\n",
              "    </tr>\n",
              "  </thead>\n",
              "  <tbody>\n",
              "    <tr>\n",
              "      <th>0</th>\n",
              "      <td>0</td>\n",
              "      <td>1</td>\n",
              "      <td>2</td>\n",
              "      <td>What is the step by step guide to invest in sh...</td>\n",
              "      <td>What is the step by step guide to invest in sh...</td>\n",
              "      <td>0</td>\n",
              "      <td>1</td>\n",
              "      <td>1</td>\n",
              "      <td>66</td>\n",
              "      <td>57</td>\n",
              "      <td>14</td>\n",
              "      <td>12</td>\n",
              "      <td>10.0</td>\n",
              "      <td>23.0</td>\n",
              "      <td>0.434783</td>\n",
              "      <td>2</td>\n",
              "      <td>0</td>\n",
              "    </tr>\n",
              "    <tr>\n",
              "      <th>1</th>\n",
              "      <td>1</td>\n",
              "      <td>3</td>\n",
              "      <td>4</td>\n",
              "      <td>What is the story of Kohinoor (Koh-i-Noor) Dia...</td>\n",
              "      <td>What would happen if the Indian government sto...</td>\n",
              "      <td>0</td>\n",
              "      <td>4</td>\n",
              "      <td>1</td>\n",
              "      <td>51</td>\n",
              "      <td>88</td>\n",
              "      <td>8</td>\n",
              "      <td>13</td>\n",
              "      <td>4.0</td>\n",
              "      <td>20.0</td>\n",
              "      <td>0.200000</td>\n",
              "      <td>5</td>\n",
              "      <td>3</td>\n",
              "    </tr>\n",
              "    <tr>\n",
              "      <th>2</th>\n",
              "      <td>2</td>\n",
              "      <td>5</td>\n",
              "      <td>6</td>\n",
              "      <td>How can I increase the speed of my internet co...</td>\n",
              "      <td>How can Internet speed be increased by hacking...</td>\n",
              "      <td>0</td>\n",
              "      <td>1</td>\n",
              "      <td>1</td>\n",
              "      <td>73</td>\n",
              "      <td>59</td>\n",
              "      <td>14</td>\n",
              "      <td>10</td>\n",
              "      <td>4.0</td>\n",
              "      <td>24.0</td>\n",
              "      <td>0.166667</td>\n",
              "      <td>2</td>\n",
              "      <td>0</td>\n",
              "    </tr>\n",
              "    <tr>\n",
              "      <th>3</th>\n",
              "      <td>3</td>\n",
              "      <td>7</td>\n",
              "      <td>8</td>\n",
              "      <td>Why am I mentally very lonely? How can I solve...</td>\n",
              "      <td>Find the remainder when [math]23^{24}[/math] i...</td>\n",
              "      <td>0</td>\n",
              "      <td>1</td>\n",
              "      <td>1</td>\n",
              "      <td>50</td>\n",
              "      <td>65</td>\n",
              "      <td>11</td>\n",
              "      <td>9</td>\n",
              "      <td>0.0</td>\n",
              "      <td>19.0</td>\n",
              "      <td>0.000000</td>\n",
              "      <td>2</td>\n",
              "      <td>0</td>\n",
              "    </tr>\n",
              "    <tr>\n",
              "      <th>4</th>\n",
              "      <td>4</td>\n",
              "      <td>9</td>\n",
              "      <td>10</td>\n",
              "      <td>Which one dissolve in water quikly sugar, salt...</td>\n",
              "      <td>Which fish would survive in salt water?</td>\n",
              "      <td>0</td>\n",
              "      <td>3</td>\n",
              "      <td>1</td>\n",
              "      <td>76</td>\n",
              "      <td>39</td>\n",
              "      <td>13</td>\n",
              "      <td>7</td>\n",
              "      <td>2.0</td>\n",
              "      <td>20.0</td>\n",
              "      <td>0.100000</td>\n",
              "      <td>4</td>\n",
              "      <td>2</td>\n",
              "    </tr>\n",
              "  </tbody>\n",
              "</table>\n",
              "</div>"
            ],
            "text/plain": [
              "   id  qid1  qid2  ... word_share freq_q1+q2  freq_q1-q2\n",
              "0   0     1     2  ...   0.434783          2           0\n",
              "1   1     3     4  ...   0.200000          5           3\n",
              "2   2     5     6  ...   0.166667          2           0\n",
              "3   3     7     8  ...   0.000000          2           0\n",
              "4   4     9    10  ...   0.100000          4           2\n",
              "\n",
              "[5 rows x 17 columns]"
            ]
          },
          "metadata": {
            "tags": []
          },
          "execution_count": 55
        }
      ]
    },
    {
      "cell_type": "markdown",
      "metadata": {
        "id": "1FvQ0HdcUl_4",
        "colab_type": "text"
      },
      "source": [
        "# Miscellaneous analysis"
      ]
    },
    {
      "cell_type": "code",
      "metadata": {
        "id": "xsss9KH7Ukur",
        "colab_type": "code",
        "colab": {
          "base_uri": "https://localhost:8080/",
          "height": 87
        },
        "outputId": "2910872b-d7ec-45f4-9ce6-c3bd8287f59c"
      },
      "source": [
        "print(\"Min length of questions in question1 group= \", min(df['q1_n_words']))\n",
        "print(\"Min length of questions in question2 group= \", min(df['q2_n_words']))\n",
        "\n",
        "print('number of questions with min length [question1 group]= ', df[df['q1_n_words']==1].shape[0])\n",
        "print('number of questions with min length [question2 group]= ', df[df['q2_n_words']==1].shape[0])"
      ],
      "execution_count": 56,
      "outputs": [
        {
          "output_type": "stream",
          "text": [
            "Min length of questions in question1 group=  1\n",
            "Min length of questions in question2 group=  1\n",
            "number of questions with min length [question1 group]=  67\n",
            "number of questions with min length [question2 group]=  24\n"
          ],
          "name": "stdout"
        }
      ]
    },
    {
      "cell_type": "code",
      "metadata": {
        "id": "hiS-5vvwYeQM",
        "colab_type": "code",
        "colab": {
          "base_uri": "https://localhost:8080/",
          "height": 516
        },
        "outputId": "b1771fd4-dbbe-4cad-c46e-ffbc2900287b"
      },
      "source": [
        "# Analysing word_share feature\n",
        "plt.figure(figsize=(12,8))\n",
        "plt.subplot(1,2,1)\n",
        "sns.violinplot(x=df['is_duplicate'], y= df['word_share'])\n",
        "\n",
        "plt.subplot(1,2,2)\n",
        "sns.distplot(df[df['is_duplicate']==1.0]['word_share'], color= 'red')\n",
        "sns.distplot(df[df['is_duplicate']==0]['word_share'], color= 'blue')"
      ],
      "execution_count": 59,
      "outputs": [
        {
          "output_type": "execute_result",
          "data": {
            "text/plain": [
              "<matplotlib.axes._subplots.AxesSubplot at 0x7fb70b82a978>"
            ]
          },
          "metadata": {
            "tags": []
          },
          "execution_count": 59
        },
        {
          "output_type": "display_data",
          "data": {
            "image/png": "[encoded data removed]",
            "text/plain": [
              "<Figure size 864x576 with 2 Axes>"
            ]
          },
          "metadata": {
            "tags": [],
            "needs_background": "light"
          }
        }
      ]
    },
    {
      "cell_type": "markdown",
      "metadata": {
        "id": "l3yaEJs9eAfQ",
        "colab_type": "text"
      },
      "source": [
        "- The distributions for normalized word_share have some overlap towards the right, i.e., there are quite a lot of questions with high word similarity\n",
        "- The average word share and Common no. of words of qid1 and qid2 is more when they are duplicate(Similar)"
      ]
    },
    {
      "cell_type": "code",
      "metadata": {
        "id": "TjIjpNUsd6ui",
        "colab_type": "code",
        "colab": {
          "base_uri": "https://localhost:8080/",
          "height": 516
        },
        "outputId": "60fa788e-5f56-4ab7-c038-0bbc971a1897"
      },
      "source": [
        "# Analysing word_Common feature\n",
        "plt.figure(figsize=(12,8))\n",
        "plt.subplot(1,2,1)\n",
        "sns.violinplot(x=df['is_duplicate'], y= df['word_Common'])\n",
        "\n",
        "plt.subplot(1,2,2)\n",
        "sns.distplot(df[df['is_duplicate']==1.0]['word_Common'], color= 'red')\n",
        "sns.distplot(df[df['is_duplicate']==0]['word_Common'], color= 'blue')"
      ],
      "execution_count": 60,
      "outputs": [
        {
          "output_type": "execute_result",
          "data": {
            "text/plain": [
              "<matplotlib.axes._subplots.AxesSubplot at 0x7fb70b3fa128>"
            ]
          },
          "metadata": {
            "tags": []
          },
          "execution_count": 60
        },
        {
          "output_type": "display_data",
          "data": {
            "image/png": "[encoded data removed]",
            "text/plain": [
              "<Figure size 864x576 with 2 Axes>"
            ]
          },
          "metadata": {
            "tags": [],
            "needs_background": "light"
          }
        }
      ]
    },
    {
      "cell_type": "markdown",
      "metadata": {
        "id": "wTZQyll0gL-s",
        "colab_type": "text"
      },
      "source": [
        "- The distributions of the word_Common feature in similar and non-similar questions are highly overlapping"
      ]
    }
  ]
}